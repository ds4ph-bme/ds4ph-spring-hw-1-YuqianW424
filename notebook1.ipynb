{
 "cells": [
  {
   "cell_type": "code",
   "execution_count": null,
   "id": "8e1339eb",
   "metadata": {},
   "outputs": [],
   "source": [
    "Yuqian Wang"
   ]
  },
  {
   "cell_type": "code",
   "execution_count": 1,
   "id": "aa4f1c2f",
   "metadata": {},
   "outputs": [
    {
     "data": {
      "text/plain": [
       "8"
      ]
     },
     "execution_count": 1,
     "metadata": {},
     "output_type": "execute_result"
    }
   ],
   "source": [
    "4+4"
   ]
  },
  {
   "cell_type": "code",
   "execution_count": 2,
   "id": "3fffa750",
   "metadata": {},
   "outputs": [],
   "source": [
    "# text chunk"
   ]
  }
 ],
 "metadata": {
  "kernelspec": {
   "display_name": "Python 3 (ipykernel)",
   "language": "python",
   "name": "python3"
  },
  "language_info": {
   "codemirror_mode": {
    "name": "ipython",
    "version": 3
   },
   "file_extension": ".py",
   "mimetype": "text/x-python",
   "name": "python",
   "nbconvert_exporter": "python",
   "pygments_lexer": "ipython3",
   "version": "3.9.12"
  }
 },
 "nbformat": 4,
 "nbformat_minor": 5
}
